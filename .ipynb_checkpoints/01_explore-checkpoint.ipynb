{
 "cells": [
  {
   "cell_type": "code",
   "execution_count": null,
   "metadata": {},
   "outputs": [],
   "source": [
    "import pandas as pd\n",
    "import spacy\n",
    "import re\n",
    "import random"
   ]
  },
  {
   "cell_type": "markdown",
   "metadata": {},
   "source": [
    "### Read data"
   ]
  },
  {
   "cell_type": "code",
   "execution_count": null,
   "metadata": {},
   "outputs": [],
   "source": [
    "df_trn = pd.read_csv('germeval2018.training.txt', sep='\\t', header=None, names=['text', 'bin', 'detail'])\n",
    "print(df_trn.head())\n",
    "df_trn['bin'].value_counts()"
   ]
  },
  {
   "cell_type": "markdown",
   "metadata": {},
   "source": [
    "The data is given as UTF-8 text and is quite balanced (1/3 of rows is offensive)"
   ]
  },
  {
   "cell_type": "code",
   "execution_count": null,
   "metadata": {},
   "outputs": [],
   "source": [
    "# generate a list of samples\n",
    "\n",
    "#idx = [3, 27, 65]\n",
    "idx = random.sample(range(len(df_trn)), 10)"
   ]
  },
  {
   "cell_type": "code",
   "execution_count": null,
   "metadata": {},
   "outputs": [],
   "source": [
    "# set up spacy\n",
    "nlp = spacy.load('de')\n",
    "\n",
    "for i in idx:\n",
    "    sample = df_trn['text'][i]\n",
    "    print(f'\\n---\\nsample: {sample}')\n",
    "    # replace twitter handles\n",
    "    sample_opt = sample\n",
    "    #sample_opt = re.sub('@(\\S+)', lambda m: m.group(1).capitalize(), sample)\n",
    "    #sample_opt = re.sub('#(\\S+)', lambda m: m.group(1), sample)\n",
    "    #if sample is not sample_opt:\n",
    "    #    print(f'optimized sample: {sample_opt}')\n",
    "    print('')    \n",
    "    doc = nlp(sample_opt)\n",
    "    for token in doc:\n",
    "        print(\"{0:<20}\\t{1:20}\\t{2:4}\\t{3:5}\\t{4}\".format(token.text, token.lemma_, token.pos_, token.tag_, token.has_vector))\n"
   ]
  },
  {
   "cell_type": "code",
   "execution_count": null,
   "metadata": {},
   "outputs": [],
   "source": [
    "t = \"@spdde kein verläßlicher Verhandlungspartner.\"\n",
    "t2 = re.sub('@(\\S+)', lambda m: '@' + m.group(1).capitalize(), t)\n",
    "t2"
   ]
  }
 ],
 "metadata": {
  "kernelspec": {
   "display_name": "Python 3",
   "language": "python",
   "name": "python3"
  },
  "language_info": {
   "codemirror_mode": {
    "name": "ipython",
    "version": 3
   },
   "file_extension": ".py",
   "mimetype": "text/x-python",
   "name": "python",
   "nbconvert_exporter": "python",
   "pygments_lexer": "ipython3",
   "version": "3.6.6"
  }
 },
 "nbformat": 4,
 "nbformat_minor": 2
}
